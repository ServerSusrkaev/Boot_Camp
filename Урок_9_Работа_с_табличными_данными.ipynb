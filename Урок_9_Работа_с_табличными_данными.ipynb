{
  "nbformat": 4,
  "nbformat_minor": 0,
  "metadata": {
    "colab": {
      "provenance": [],
      "authorship_tag": "ABX9TyPNA/hDRfbc+zDVBdgL/vSg",
      "include_colab_link": true
    },
    "kernelspec": {
      "name": "python3",
      "display_name": "Python 3"
    },
    "language_info": {
      "name": "python"
    }
  },
  "cells": [
    {
      "cell_type": "markdown",
      "metadata": {
        "id": "view-in-github",
        "colab_type": "text"
      },
      "source": [
        "<a href=\"https://colab.research.google.com/github/ServerSusrkaev/Boot_Camp/blob/main/%D0%A3%D1%80%D0%BE%D0%BA_9_%D0%A0%D0%B0%D0%B1%D0%BE%D1%82%D0%B0_%D1%81_%D1%82%D0%B0%D0%B1%D0%BB%D0%B8%D1%87%D0%BD%D1%8B%D0%BC%D0%B8_%D0%B4%D0%B0%D0%BD%D0%BD%D1%8B%D0%BC%D0%B8.ipynb\" target=\"_parent\"><img src=\"https://colab.research.google.com/assets/colab-badge.svg\" alt=\"Open In Colab\"/></a>"
      ]
    },
    {
      "cell_type": "code",
      "source": [
        "# Задание\n",
        "# Задача 40: Работать с файлом california_housing_train.csv, который находится в папке\n",
        "# sample_data. Определить среднюю стоимость дома, где кол-во людей от 0 до 500 (population)\n",
        "\n",
        "# Решение:\n",
        "​\n",
        "df[df['population']<501]['median_house_value'].agg(['mean'])\n",
        "# mean    206799.951402\n",
        "# Name: median_house_value, dtype: float64\n",
        "​\n",
        "# Вариант 2:\n",
        "​\n",
        "df[df['population']<501]['median_house_value'].mean()\n",
        "206799.95140186916\n",
        "\n",
        "# Задача 42: Узнать какая максимальная households в зоне минимального значения population\n",
        "\n",
        "# Решение:\n",
        "​\n",
        "df[df['population']==df['population'].min()]['households'].max()\n",
        "# 4.0\n",
        "​\n",
        "Вариант 2:\n",
        "df[df['population']==df['population'].min()]['households'].agg(['max'])\n",
        "# max    4.0\n",
        "# Name: households, dtype: float64"
      ],
      "metadata": {
        "id": "u9FTDUtIR7uH"
      },
      "execution_count": null,
      "outputs": []
    }
  ]
}